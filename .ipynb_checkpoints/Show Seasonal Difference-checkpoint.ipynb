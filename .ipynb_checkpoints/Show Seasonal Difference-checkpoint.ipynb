{
 "cells": [
  {
   "cell_type": "code",
   "execution_count": 16,
   "id": "36cfe245",
   "metadata": {},
   "outputs": [
    {
     "name": "stdout",
     "output_type": "stream",
     "text": [
      "CSV files generated for each week in ./save folder.\n"
     ]
    }
   ],
   "source": [
    "import pandas as pd\n",
    "import datetime\n",
    "import matplotlib.pyplot as plt\n",
    "\n",
    "\n",
    "n_his = 24\n",
    "n_pred = 12\n",
    "\n",
    "col = pd.read_csv('./dataset/col_ap.csv', header=None).values.flatten()\n",
    "\n",
    "specific_date = datetime.datetime(2021, 5, 11)\n",
    "\n",
    "num_timesteps = 253\n",
    "time_diff = datetime.timedelta(minutes=5)  # Assuming each timestep is 5 minutes\n",
    "specific_date = datetime.datetime(2021, 5, 11, 2, 55, tzinfo=datetime.timezone(datetime.timedelta(hours=-2)))\n",
    "\n",
    "timestamps = [specific_date + i * time_diff for i in range(num_timesteps)]\n",
    "\n",
    "\n",
    "# Function to read and process data for a specific week\n",
    "def process_week_data(week_num):\n",
    "  filename = f\"./save/week_{week_num}.csv\"  # Construct filename with week number\n",
    "  seasonal = pd.read_csv('./dataset/seasonal_week.csv', header=None).values\n",
    "  start_index = week_num * 288\n",
    "  end_index = (week_num + 1) * 288\n",
    "  data_to_process = seasonal[start_index:end_index][(n_his + n_pred - 1):]\n",
    "  df_seasonal = pd.DataFrame(data_to_process, index=idx, columns=col)\n",
    "  df_seasonal.insert(0, 'Timesteps', timestamps)\n",
    "  df_seasonal.to_csv(filename, index=False)  # Save data to CSV without index\n",
    "\n",
    "\n",
    "# Loop through week numbers 0 to 6\n",
    "for week_num in range(7):\n",
    "  process_week_data(week_num)\n",
    "\n",
    "\n",
    "df_week0 = pd.read_csv('./save/week_0.csv', index_col=0)\n",
    "df_week1 = pd.read_csv('./save/week_1.csv', index_col=0)\n",
    "df_week2 = pd.read_csv('./save/week_2.csv', index_col=0)\n",
    "df_week3 = pd.read_csv('./save/week_3.csv', index_col=0)\n",
    "df_week4 = pd.read_csv('./save/week_4.csv', index_col=0)\n",
    "df_week5 = pd.read_csv('./save/week_5.csv', index_col=0)\n",
    "df_week6 = pd.read_csv('./save/week_6.csv', index_col=0)\n",
    "\n",
    "print(\"CSV files generated for each week in ./save folder.\")\n"
   ]
  },
  {
   "cell_type": "code",
   "execution_count": 8,
   "id": "b4e3ef6f",
   "metadata": {
    "scrolled": true
   },
   "outputs": [
    {
     "ename": "NameError",
     "evalue": "name 'your_numpy_array_for_week' is not defined",
     "output_type": "error",
     "traceback": [
      "\u001b[1;31m---------------------------------------------------------------------------\u001b[0m",
      "\u001b[1;31mNameError\u001b[0m                                 Traceback (most recent call last)",
      "Input \u001b[1;32mIn [8]\u001b[0m, in \u001b[0;36m<cell line: 39>\u001b[1;34m()\u001b[0m\n\u001b[0;32m     38\u001b[0m weekly_data \u001b[38;5;241m=\u001b[39m {}  \u001b[38;5;66;03m# Dictionary to store DataFrames for each week\u001b[39;00m\n\u001b[0;32m     39\u001b[0m \u001b[38;5;28;01mfor\u001b[39;00m week_num \u001b[38;5;129;01min\u001b[39;00m \u001b[38;5;28mrange\u001b[39m(\u001b[38;5;241m7\u001b[39m):\n\u001b[0;32m     40\u001b[0m   \u001b[38;5;66;03m# Assuming you have a way to get specific_date and time_diff for each week\u001b[39;00m\n\u001b[1;32m---> 41\u001b[0m   df \u001b[38;5;241m=\u001b[39m process_week_data(week_num, \u001b[43myour_numpy_array_for_week\u001b[49m, specific_date, time_diff)\n\u001b[0;32m     42\u001b[0m   weekly_data[week_num] \u001b[38;5;241m=\u001b[39m df\n\u001b[0;32m     44\u001b[0m visualize_data(weekly_data)\n",
      "\u001b[1;31mNameError\u001b[0m: name 'your_numpy_array_for_week' is not defined"
     ]
    }
   ],
   "source": []
  },
  {
   "cell_type": "code",
   "execution_count": null,
   "id": "26351fc2",
   "metadata": {},
   "outputs": [],
   "source": []
  }
 ],
 "metadata": {
  "kernelspec": {
   "display_name": "Python 3 (ipykernel)",
   "language": "python",
   "name": "python3"
  },
  "language_info": {
   "codemirror_mode": {
    "name": "ipython",
    "version": 3
   },
   "file_extension": ".py",
   "mimetype": "text/x-python",
   "name": "python",
   "nbconvert_exporter": "python",
   "pygments_lexer": "ipython3",
   "version": "3.8.6"
  }
 },
 "nbformat": 4,
 "nbformat_minor": 5
}
